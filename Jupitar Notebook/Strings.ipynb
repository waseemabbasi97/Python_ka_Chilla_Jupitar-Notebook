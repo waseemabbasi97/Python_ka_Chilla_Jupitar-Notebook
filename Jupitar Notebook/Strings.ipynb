{
 "cells": [
  {
   "cell_type": "markdown",
   "id": "4ae8b446",
   "metadata": {},
   "source": [
    "# Indexing"
   ]
  },
  {
   "cell_type": "code",
   "execution_count": 1,
   "id": "626aed04",
   "metadata": {},
   "outputs": [],
   "source": [
    "# make a string"
   ]
  },
  {
   "cell_type": "code",
   "execution_count": 2,
   "id": "8a528304",
   "metadata": {},
   "outputs": [
    {
     "data": {
      "text/plain": [
       "'smosa,pakora'"
      ]
     },
     "execution_count": 2,
     "metadata": {},
     "output_type": "execute_result"
    }
   ],
   "source": [
    "a= \"smosa,pakora\"\n",
    "a"
   ]
  },
  {
   "cell_type": "code",
   "execution_count": 3,
   "id": "b45cd256",
   "metadata": {},
   "outputs": [
    {
     "data": {
      "text/plain": [
       "'s'"
      ]
     },
     "execution_count": 3,
     "metadata": {},
     "output_type": "execute_result"
    }
   ],
   "source": [
    "a[0] "
   ]
  },
  {
   "cell_type": "code",
   "execution_count": 4,
   "id": "bcc0032c",
   "metadata": {},
   "outputs": [
    {
     "data": {
      "text/plain": [
       "'m'"
      ]
     },
     "execution_count": 4,
     "metadata": {},
     "output_type": "execute_result"
    }
   ],
   "source": [
    "a[1]"
   ]
  },
  {
   "cell_type": "code",
   "execution_count": 5,
   "id": "528ec84f",
   "metadata": {},
   "outputs": [
    {
     "data": {
      "text/plain": [
       "12"
      ]
     },
     "execution_count": 5,
     "metadata": {},
     "output_type": "execute_result"
    }
   ],
   "source": [
    "# lenght of index\n",
    "len(a)"
   ]
  },
  {
   "cell_type": "code",
   "execution_count": 6,
   "id": "659e19de",
   "metadata": {},
   "outputs": [
    {
     "data": {
      "text/plain": [
       "'a'"
      ]
     },
     "execution_count": 6,
     "metadata": {},
     "output_type": "execute_result"
    }
   ],
   "source": [
    "a[11]"
   ]
  },
  {
   "cell_type": "code",
   "execution_count": 7,
   "id": "93bb44b4",
   "metadata": {},
   "outputs": [
    {
     "data": {
      "text/plain": [
       "'a'"
      ]
     },
     "execution_count": 7,
     "metadata": {},
     "output_type": "execute_result"
    }
   ],
   "source": [
    "a[11]"
   ]
  },
  {
   "cell_type": "code",
   "execution_count": 8,
   "id": "cbd9f583",
   "metadata": {},
   "outputs": [
    {
     "data": {
      "text/plain": [
       "'smosa'"
      ]
     },
     "execution_count": 8,
     "metadata": {},
     "output_type": "execute_result"
    }
   ],
   "source": [
    "a[0:5]"
   ]
  },
  {
   "cell_type": "code",
   "execution_count": 9,
   "id": "54c3d1b9",
   "metadata": {},
   "outputs": [
    {
     "data": {
      "text/plain": [
       "'pakor'"
      ]
     },
     "execution_count": 9,
     "metadata": {},
     "output_type": "execute_result"
    }
   ],
   "source": [
    "a[6:11]"
   ]
  },
  {
   "cell_type": "code",
   "execution_count": 10,
   "id": "e94b2b91",
   "metadata": {},
   "outputs": [
    {
     "data": {
      "text/plain": [
       "'pakora'"
      ]
     },
     "execution_count": 10,
     "metadata": {},
     "output_type": "execute_result"
    }
   ],
   "source": [
    "a[6:12]"
   ]
  },
  {
   "cell_type": "code",
   "execution_count": 11,
   "id": "80b9eede",
   "metadata": {},
   "outputs": [
    {
     "data": {
      "text/plain": [
       "'pakora'"
      ]
     },
     "execution_count": 11,
     "metadata": {},
     "output_type": "execute_result"
    }
   ],
   "source": [
    "a[6:15]"
   ]
  },
  {
   "cell_type": "code",
   "execution_count": 101,
   "id": "b4d02281",
   "metadata": {},
   "outputs": [
    {
     "data": {
      "text/plain": [
       "'smosa,pakora'"
      ]
     },
     "execution_count": 101,
     "metadata": {},
     "output_type": "execute_result"
    }
   ],
   "source": [
    "a[0:13]"
   ]
  },
  {
   "cell_type": "code",
   "execution_count": 13,
   "id": "9238e0dc",
   "metadata": {},
   "outputs": [
    {
     "data": {
      "text/plain": [
       "'a'"
      ]
     },
     "execution_count": 13,
     "metadata": {},
     "output_type": "execute_result"
    }
   ],
   "source": [
    "a[7]"
   ]
  },
  {
   "cell_type": "code",
   "execution_count": 14,
   "id": "411fcd8c",
   "metadata": {},
   "outputs": [
    {
     "data": {
      "text/plain": [
       "','"
      ]
     },
     "execution_count": 14,
     "metadata": {},
     "output_type": "execute_result"
    }
   ],
   "source": [
    "a[5]"
   ]
  },
  {
   "cell_type": "code",
   "execution_count": 15,
   "id": "fd6b3556",
   "metadata": {},
   "outputs": [
    {
     "data": {
      "text/plain": [
       "'a'"
      ]
     },
     "execution_count": 15,
     "metadata": {},
     "output_type": "execute_result"
    }
   ],
   "source": [
    "a[-1]"
   ]
  },
  {
   "cell_type": "code",
   "execution_count": 16,
   "id": "73a478f6",
   "metadata": {},
   "outputs": [
    {
     "data": {
      "text/plain": [
       "'r'"
      ]
     },
     "execution_count": 16,
     "metadata": {},
     "output_type": "execute_result"
    }
   ],
   "source": [
    "a[-2]"
   ]
  },
  {
   "cell_type": "code",
   "execution_count": 102,
   "id": "d80e3744",
   "metadata": {},
   "outputs": [
    {
     "data": {
      "text/plain": [
       "''"
      ]
     },
     "execution_count": 102,
     "metadata": {},
     "output_type": "execute_result"
    }
   ],
   "source": [
    "a[-1:6]"
   ]
  },
  {
   "cell_type": "code",
   "execution_count": 18,
   "id": "cb2768b2",
   "metadata": {},
   "outputs": [
    {
     "data": {
      "text/plain": [
       "''"
      ]
     },
     "execution_count": 18,
     "metadata": {},
     "output_type": "execute_result"
    }
   ],
   "source": [
    "a[-1:-6]"
   ]
  },
  {
   "cell_type": "code",
   "execution_count": 107,
   "id": "ec34b80e",
   "metadata": {},
   "outputs": [
    {
     "data": {
      "text/plain": [
       "''"
      ]
     },
     "execution_count": 107,
     "metadata": {},
     "output_type": "execute_result"
    }
   ],
   "source": [
    "a[-7:1]"
   ]
  },
  {
   "cell_type": "code",
   "execution_count": 106,
   "id": "fe009919",
   "metadata": {},
   "outputs": [
    {
     "data": {
      "text/plain": [
       "',pakor'"
      ]
     },
     "execution_count": 106,
     "metadata": {},
     "output_type": "execute_result"
    }
   ],
   "source": [
    "a[-7:-1]"
   ]
  },
  {
   "cell_type": "code",
   "execution_count": 21,
   "id": "95fe8105",
   "metadata": {},
   "outputs": [
    {
     "data": {
      "text/plain": [
       "''"
      ]
     },
     "execution_count": 21,
     "metadata": {},
     "output_type": "execute_result"
    }
   ],
   "source": [
    "a[-6:0]"
   ]
  },
  {
   "cell_type": "code",
   "execution_count": 22,
   "id": "43639fbd",
   "metadata": {},
   "outputs": [
    {
     "data": {
      "text/plain": [
       "''"
      ]
     },
     "execution_count": 22,
     "metadata": {},
     "output_type": "execute_result"
    }
   ],
   "source": [
    "a[-6:-0]"
   ]
  },
  {
   "cell_type": "code",
   "execution_count": 23,
   "id": "eae2baf6",
   "metadata": {},
   "outputs": [
    {
     "data": {
      "text/plain": [
       "',pakor'"
      ]
     },
     "execution_count": 23,
     "metadata": {},
     "output_type": "execute_result"
    }
   ],
   "source": [
    "a[-7:-1]\n"
   ]
  },
  {
   "cell_type": "code",
   "execution_count": 24,
   "id": "c29259c5",
   "metadata": {},
   "outputs": [
    {
     "data": {
      "text/plain": [
       "''"
      ]
     },
     "execution_count": 24,
     "metadata": {},
     "output_type": "execute_result"
    }
   ],
   "source": [
    "a[-6:-12]"
   ]
  },
  {
   "cell_type": "code",
   "execution_count": 25,
   "id": "9535ebe6",
   "metadata": {},
   "outputs": [
    {
     "data": {
      "text/plain": [
       "''"
      ]
     },
     "execution_count": 25,
     "metadata": {},
     "output_type": "execute_result"
    }
   ],
   "source": [
    "a[-6:-13]"
   ]
  },
  {
   "cell_type": "code",
   "execution_count": 26,
   "id": "3bbfc3ff",
   "metadata": {},
   "outputs": [
    {
     "data": {
      "text/plain": [
       "'smosa,'"
      ]
     },
     "execution_count": 26,
     "metadata": {},
     "output_type": "execute_result"
    }
   ],
   "source": [
    "a[-12:-6]"
   ]
  },
  {
   "cell_type": "code",
   "execution_count": 27,
   "id": "b00515a7",
   "metadata": {},
   "outputs": [
    {
     "data": {
      "text/plain": [
       "'akor'"
      ]
     },
     "execution_count": 27,
     "metadata": {},
     "output_type": "execute_result"
    }
   ],
   "source": [
    "a[-5:-1]"
   ]
  },
  {
   "cell_type": "code",
   "execution_count": 28,
   "id": "cfe1ee45",
   "metadata": {},
   "outputs": [
    {
     "data": {
      "text/plain": [
       "',pakor'"
      ]
     },
     "execution_count": 28,
     "metadata": {},
     "output_type": "execute_result"
    }
   ],
   "source": [
    "a[-7:-1]"
   ]
  },
  {
   "cell_type": "code",
   "execution_count": 29,
   "id": "c3e36bef",
   "metadata": {},
   "outputs": [
    {
     "data": {
      "text/plain": [
       "'pakora'"
      ]
     },
     "execution_count": 29,
     "metadata": {},
     "output_type": "execute_result"
    }
   ],
   "source": [
    "a[-6:13]"
   ]
  },
  {
   "cell_type": "code",
   "execution_count": 30,
   "id": "1f58ad13",
   "metadata": {},
   "outputs": [],
   "source": [
    "food = \"biryani\""
   ]
  },
  {
   "cell_type": "code",
   "execution_count": 31,
   "id": "3c6d40f3",
   "metadata": {},
   "outputs": [
    {
     "data": {
      "text/plain": [
       "'biryani'"
      ]
     },
     "execution_count": 31,
     "metadata": {},
     "output_type": "execute_result"
    }
   ],
   "source": [
    "food"
   ]
  },
  {
   "cell_type": "markdown",
   "id": "786fd0b4",
   "metadata": {},
   "source": [
    "### String Methods"
   ]
  },
  {
   "cell_type": "code",
   "execution_count": 32,
   "id": "cde86d38",
   "metadata": {},
   "outputs": [
    {
     "data": {
      "text/plain": [
       "7"
      ]
     },
     "execution_count": 32,
     "metadata": {},
     "output_type": "execute_result"
    }
   ],
   "source": [
    "len(food)\n"
   ]
  },
  {
   "cell_type": "code",
   "execution_count": 33,
   "id": "e773dc77",
   "metadata": {},
   "outputs": [
    {
     "data": {
      "text/plain": [
       "'Biryani'"
      ]
     },
     "execution_count": 33,
     "metadata": {},
     "output_type": "execute_result"
    }
   ],
   "source": [
    "food.capitalize()"
   ]
  },
  {
   "cell_type": "code",
   "execution_count": 34,
   "id": "4528c0a5",
   "metadata": {},
   "outputs": [
    {
     "data": {
      "text/plain": [
       "'biryani'"
      ]
     },
     "execution_count": 34,
     "metadata": {},
     "output_type": "execute_result"
    }
   ],
   "source": [
    "food.casefold()"
   ]
  },
  {
   "cell_type": "code",
   "execution_count": 35,
   "id": "315e3534",
   "metadata": {},
   "outputs": [
    {
     "data": {
      "text/plain": [
       "'BIRYANI'"
      ]
     },
     "execution_count": 35,
     "metadata": {},
     "output_type": "execute_result"
    }
   ],
   "source": [
    "food.upper()"
   ]
  },
  {
   "cell_type": "code",
   "execution_count": 36,
   "id": "8677556e",
   "metadata": {},
   "outputs": [
    {
     "data": {
      "text/plain": [
       "'biryani'"
      ]
     },
     "execution_count": 36,
     "metadata": {},
     "output_type": "execute_result"
    }
   ],
   "source": [
    "food.lower()"
   ]
  },
  {
   "cell_type": "code",
   "execution_count": 37,
   "id": "55d457b9",
   "metadata": {},
   "outputs": [
    {
     "data": {
      "text/plain": [
       "'shiryani'"
      ]
     },
     "execution_count": 37,
     "metadata": {},
     "output_type": "execute_result"
    }
   ],
   "source": [
    "food.replace('b','sh')"
   ]
  },
  {
   "cell_type": "code",
   "execution_count": 38,
   "id": "c5a60297",
   "metadata": {},
   "outputs": [
    {
     "data": {
      "text/plain": [
       "'biryani'"
      ]
     },
     "execution_count": 38,
     "metadata": {},
     "output_type": "execute_result"
    }
   ],
   "source": [
    "food"
   ]
  },
  {
   "cell_type": "code",
   "execution_count": 39,
   "id": "1f929948",
   "metadata": {},
   "outputs": [
    {
     "data": {
      "text/plain": [
       "'baryana'"
      ]
     },
     "execution_count": 39,
     "metadata": {},
     "output_type": "execute_result"
    }
   ],
   "source": [
    "food.replace('i','a')"
   ]
  },
  {
   "cell_type": "code",
   "execution_count": 125,
   "id": "8237f933",
   "metadata": {},
   "outputs": [
    {
     "name": "stdout",
     "output_type": "stream",
     "text": [
      "                                               banana                                               \n"
     ]
    }
   ],
   "source": [
    "txt = \"banana\"\n",
    "\n",
    "x = txt.center(100)\n",
    "\n",
    "print(x) "
   ]
  },
  {
   "cell_type": "code",
   "execution_count": 132,
   "id": "0dca534a",
   "metadata": {},
   "outputs": [
    {
     "name": "stdout",
     "output_type": "stream",
     "text": [
      "b'My name is St\\\\xe5le'\n",
      "b'My name is Stle'\n",
      "b'My name is St\\\\N{LATIN SMALL LETTER A WITH RING ABOVE}le'\n",
      "b'My name is St?le'\n",
      "b'My name is St&#229;le'\n"
     ]
    }
   ],
   "source": [
    "txt = \"My name is Ståle\"\n",
    "\n",
    "print(txt.encode(encoding=\"ascii\",errors=\"backslashreplace\"))\n",
    "print(txt.encode(encoding=\"ascii\",errors=\"ignore\"))\n",
    "print(txt.encode(encoding=\"ascii\",errors=\"namereplace\"))\n",
    "print(txt.encode(encoding=\"ascii\",errors=\"replace\"))\n",
    "print(txt.encode(encoding=\"ascii\",errors=\"xmlcharrefreplace\"))"
   ]
  },
  {
   "cell_type": "code",
   "execution_count": 40,
   "id": "e27b2534",
   "metadata": {},
   "outputs": [
    {
     "data": {
      "text/plain": [
       "'baba_ammar with Dr Ammar Tufail'"
      ]
     },
     "execution_count": 40,
     "metadata": {},
     "output_type": "execute_result"
    }
   ],
   "source": [
    "name = \"baba_ammar with Dr Ammar Tufail\"\n",
    "name"
   ]
  },
  {
   "cell_type": "code",
   "execution_count": 41,
   "id": "ce29e1fb",
   "metadata": {},
   "outputs": [
    {
     "data": {
      "text/plain": [
       "6"
      ]
     },
     "execution_count": 41,
     "metadata": {},
     "output_type": "execute_result"
    }
   ],
   "source": [
    "name.count('a')"
   ]
  },
  {
   "cell_type": "code",
   "execution_count": 42,
   "id": "7400cd27",
   "metadata": {},
   "outputs": [
    {
     "data": {
      "text/plain": [
       "5"
      ]
     },
     "execution_count": 42,
     "metadata": {},
     "output_type": "execute_result"
    }
   ],
   "source": [
    "name.find('ammar')"
   ]
  },
  {
   "cell_type": "code",
   "execution_count": 43,
   "id": "af34dc9a",
   "metadata": {
    "scrolled": true
   },
   "outputs": [
    {
     "data": {
      "text/plain": [
       "['baba_ammar', 'with', 'Dr', 'Ammar', 'Tufail']"
      ]
     },
     "execution_count": 43,
     "metadata": {},
     "output_type": "execute_result"
    }
   ],
   "source": [
    "name.split()"
   ]
  },
  {
   "cell_type": "markdown",
   "id": "287ce706",
   "metadata": {},
   "source": [
    "# Basic Data Structure in Python\n",
    "1. Tuple\n",
    "2. List\n",
    "3. Dictonieris \n",
    "4. Set"
   ]
  },
  {
   "cell_type": "code",
   "execution_count": 44,
   "id": "03c329c4",
   "metadata": {},
   "outputs": [],
   "source": [
    "## Tuple\n",
    "# order collection of elements\n",
    "# different kind of elements\n",
    "# enclose in parathensis\n",
    "# Once elements are stored you cannot change them"
   ]
  },
  {
   "cell_type": "code",
   "execution_count": 45,
   "id": "eb583306",
   "metadata": {},
   "outputs": [
    {
     "data": {
      "text/plain": [
       "(1, 'Python', True, 2.3)"
      ]
     },
     "execution_count": 45,
     "metadata": {},
     "output_type": "execute_result"
    }
   ],
   "source": [
    "tup1 = (1,\"Python\", True, 2.3)\n",
    "tup1"
   ]
  },
  {
   "cell_type": "code",
   "execution_count": 46,
   "id": "b9dd1ae3",
   "metadata": {},
   "outputs": [],
   "source": [
    "#  Type of the tuple(like table)"
   ]
  },
  {
   "cell_type": "code",
   "execution_count": 47,
   "id": "c421c2db",
   "metadata": {},
   "outputs": [
    {
     "data": {
      "text/plain": [
       "tuple"
      ]
     },
     "execution_count": 47,
     "metadata": {},
     "output_type": "execute_result"
    }
   ],
   "source": [
    "type(tup1)"
   ]
  },
  {
   "cell_type": "markdown",
   "id": "77432ed8",
   "metadata": {},
   "source": [
    "### Indexing in tuple"
   ]
  },
  {
   "cell_type": "code",
   "execution_count": 48,
   "id": "395c4217",
   "metadata": {},
   "outputs": [
    {
     "data": {
      "text/plain": [
       "'Python'"
      ]
     },
     "execution_count": 48,
     "metadata": {},
     "output_type": "execute_result"
    }
   ],
   "source": [
    "tup1[1]"
   ]
  },
  {
   "cell_type": "code",
   "execution_count": 49,
   "id": "70466bf0",
   "metadata": {},
   "outputs": [
    {
     "data": {
      "text/plain": [
       "1"
      ]
     },
     "execution_count": 49,
     "metadata": {},
     "output_type": "execute_result"
    }
   ],
   "source": [
    "tup1[0]"
   ]
  },
  {
   "cell_type": "code",
   "execution_count": 50,
   "id": "e328e4f8",
   "metadata": {},
   "outputs": [
    {
     "data": {
      "text/plain": [
       "'Python'"
      ]
     },
     "execution_count": 50,
     "metadata": {},
     "output_type": "execute_result"
    }
   ],
   "source": [
    "tup1[1]"
   ]
  },
  {
   "cell_type": "code",
   "execution_count": 51,
   "id": "eb772f6f",
   "metadata": {},
   "outputs": [
    {
     "data": {
      "text/plain": [
       "True"
      ]
     },
     "execution_count": 51,
     "metadata": {},
     "output_type": "execute_result"
    }
   ],
   "source": [
    "tup1[2]"
   ]
  },
  {
   "cell_type": "code",
   "execution_count": 52,
   "id": "b35a40f2",
   "metadata": {},
   "outputs": [
    {
     "data": {
      "text/plain": [
       "2.3"
      ]
     },
     "execution_count": 52,
     "metadata": {},
     "output_type": "execute_result"
    }
   ],
   "source": [
    "tup1[3]"
   ]
  },
  {
   "cell_type": "code",
   "execution_count": 53,
   "id": "09e0e563",
   "metadata": {},
   "outputs": [
    {
     "data": {
      "text/plain": [
       "2.3"
      ]
     },
     "execution_count": 53,
     "metadata": {},
     "output_type": "execute_result"
    }
   ],
   "source": [
    "tup1[3]"
   ]
  },
  {
   "cell_type": "code",
   "execution_count": 54,
   "id": "1331c1e2",
   "metadata": {},
   "outputs": [
    {
     "data": {
      "text/plain": [
       "tuple"
      ]
     },
     "execution_count": 54,
     "metadata": {},
     "output_type": "execute_result"
    }
   ],
   "source": [
    "type(tup1)"
   ]
  },
  {
   "cell_type": "code",
   "execution_count": 55,
   "id": "254d5587",
   "metadata": {},
   "outputs": [
    {
     "data": {
      "text/plain": [
       "int"
      ]
     },
     "execution_count": 55,
     "metadata": {},
     "output_type": "execute_result"
    }
   ],
   "source": [
    "type(tup1[0])"
   ]
  },
  {
   "cell_type": "code",
   "execution_count": 56,
   "id": "51397a8b",
   "metadata": {},
   "outputs": [
    {
     "data": {
      "text/plain": [
       "str"
      ]
     },
     "execution_count": 56,
     "metadata": {},
     "output_type": "execute_result"
    }
   ],
   "source": [
    "type(tup1[1])"
   ]
  },
  {
   "cell_type": "code",
   "execution_count": 57,
   "id": "e7968e0c",
   "metadata": {},
   "outputs": [
    {
     "data": {
      "text/plain": [
       "bool"
      ]
     },
     "execution_count": 57,
     "metadata": {},
     "output_type": "execute_result"
    }
   ],
   "source": [
    "type(tup1[2])"
   ]
  },
  {
   "cell_type": "code",
   "execution_count": 58,
   "id": "e6057755",
   "metadata": {},
   "outputs": [
    {
     "data": {
      "text/plain": [
       "(1, 'Python', True)"
      ]
     },
     "execution_count": 58,
     "metadata": {},
     "output_type": "execute_result"
    }
   ],
   "source": [
    "tup1[0:3]"
   ]
  },
  {
   "cell_type": "code",
   "execution_count": 59,
   "id": "8a423c3b",
   "metadata": {},
   "outputs": [],
   "source": [
    "# last elemnet in python is exclusive"
   ]
  },
  {
   "cell_type": "code",
   "execution_count": 60,
   "id": "b9d389c1",
   "metadata": {},
   "outputs": [
    {
     "data": {
      "text/plain": [
       "4"
      ]
     },
     "execution_count": 60,
     "metadata": {},
     "output_type": "execute_result"
    }
   ],
   "source": [
    "len(tup1)"
   ]
  },
  {
   "cell_type": "code",
   "execution_count": 61,
   "id": "2a42c0f4",
   "metadata": {},
   "outputs": [
    {
     "data": {
      "text/plain": [
       "(1, 'Python', True, 2.3)"
      ]
     },
     "execution_count": 61,
     "metadata": {},
     "output_type": "execute_result"
    }
   ],
   "source": [
    "tup1[0:4]"
   ]
  },
  {
   "cell_type": "code",
   "execution_count": 62,
   "id": "981b0f3d",
   "metadata": {},
   "outputs": [
    {
     "data": {
      "text/plain": [
       "(2, 'baba_amaar', False, 3.2)"
      ]
     },
     "execution_count": 62,
     "metadata": {},
     "output_type": "execute_result"
    }
   ],
   "source": [
    "tup2 = (2, \"baba_amaar\", False, 3.2)\n",
    "tup2"
   ]
  },
  {
   "cell_type": "code",
   "execution_count": 63,
   "id": "2832f932",
   "metadata": {},
   "outputs": [
    {
     "data": {
      "text/plain": [
       "(1, 'Python', True, 2.3, 2, 'baba_amaar', False, 3.2)"
      ]
     },
     "execution_count": 63,
     "metadata": {},
     "output_type": "execute_result"
    }
   ],
   "source": [
    "tup3 = tup1 + tup2\n",
    "tup3"
   ]
  },
  {
   "cell_type": "code",
   "execution_count": 64,
   "id": "f58ce044",
   "metadata": {},
   "outputs": [
    {
     "data": {
      "text/plain": [
       "(1, 'Python', True, 2.3, 1, 'Python', True, 2.3, 2, 'baba_amaar', False, 3.2)"
      ]
     },
     "execution_count": 64,
     "metadata": {},
     "output_type": "execute_result"
    }
   ],
   "source": [
    "tup4= tup1*2 + tup2\n",
    "tup4"
   ]
  },
  {
   "cell_type": "code",
   "execution_count": 65,
   "id": "75d76d11",
   "metadata": {},
   "outputs": [
    {
     "data": {
      "text/plain": [
       "(30, 56, 73, 19, 99, 7)"
      ]
     },
     "execution_count": 65,
     "metadata": {},
     "output_type": "execute_result"
    }
   ],
   "source": [
    "tup5 =(30,56, 73,19,99,7)\n",
    "tup5"
   ]
  },
  {
   "cell_type": "code",
   "execution_count": 66,
   "id": "c4ac2e4d",
   "metadata": {},
   "outputs": [],
   "source": [
    "# minimum"
   ]
  },
  {
   "cell_type": "code",
   "execution_count": 67,
   "id": "194c5f83",
   "metadata": {},
   "outputs": [
    {
     "data": {
      "text/plain": [
       "7"
      ]
     },
     "execution_count": 67,
     "metadata": {},
     "output_type": "execute_result"
    }
   ],
   "source": [
    "min(tup5)"
   ]
  },
  {
   "cell_type": "code",
   "execution_count": 68,
   "id": "e8d11352",
   "metadata": {},
   "outputs": [
    {
     "data": {
      "text/plain": [
       "99"
      ]
     },
     "execution_count": 68,
     "metadata": {},
     "output_type": "execute_result"
    }
   ],
   "source": [
    "max(tup5)"
   ]
  },
  {
   "cell_type": "code",
   "execution_count": 69,
   "id": "1f089e81",
   "metadata": {},
   "outputs": [
    {
     "data": {
      "text/plain": [
       "(30, 56, 73, 19, 99, 7, 30, 56, 73, 19, 99, 7)"
      ]
     },
     "execution_count": 69,
     "metadata": {},
     "output_type": "execute_result"
    }
   ],
   "source": [
    "2*tup5"
   ]
  },
  {
   "cell_type": "code",
   "execution_count": 70,
   "id": "29a4192e",
   "metadata": {},
   "outputs": [],
   "source": [
    "# addition is basically concanicate in python\n",
    "# order collection of element\n",
    "# cocaniyou cannot change or replace tuple\n",
    "# you can stored elements\n"
   ]
  },
  {
   "cell_type": "markdown",
   "id": "df50877e",
   "metadata": {},
   "source": [
    "# List\n",
    "**enclosed in square brackets**"
   ]
  },
  {
   "cell_type": "markdown",
   "id": "625e69ab",
   "metadata": {},
   "source": [
    "### string is the collection of the elemnets\n",
    "### enclosed in square brackets[]\n"
   ]
  },
  {
   "cell_type": "code",
   "execution_count": 71,
   "id": "edadfc97",
   "metadata": {},
   "outputs": [
    {
     "data": {
      "text/plain": [
       "[1, 'Python', False]"
      ]
     },
     "execution_count": 71,
     "metadata": {},
     "output_type": "execute_result"
    }
   ],
   "source": [
    "list1 = [1,\"Python\",False]\n",
    "list1"
   ]
  },
  {
   "cell_type": "code",
   "execution_count": 72,
   "id": "7f2d6d8a",
   "metadata": {},
   "outputs": [
    {
     "data": {
      "text/plain": [
       "list"
      ]
     },
     "execution_count": 72,
     "metadata": {},
     "output_type": "execute_result"
    }
   ],
   "source": [
    "type(list1)"
   ]
  },
  {
   "cell_type": "code",
   "execution_count": 73,
   "id": "cfb41896",
   "metadata": {},
   "outputs": [
    {
     "data": {
      "text/plain": [
       "list[0]"
      ]
     },
     "execution_count": 73,
     "metadata": {},
     "output_type": "execute_result"
    }
   ],
   "source": [
    "list[0]"
   ]
  },
  {
   "cell_type": "code",
   "execution_count": 74,
   "id": "374612e1",
   "metadata": {},
   "outputs": [
    {
     "data": {
      "text/plain": [
       "1"
      ]
     },
     "execution_count": 74,
     "metadata": {},
     "output_type": "execute_result"
    }
   ],
   "source": [
    "list1[0]"
   ]
  },
  {
   "cell_type": "code",
   "execution_count": 75,
   "id": "6802e3a4",
   "metadata": {},
   "outputs": [
    {
     "data": {
      "text/plain": [
       "False"
      ]
     },
     "execution_count": 75,
     "metadata": {},
     "output_type": "execute_result"
    }
   ],
   "source": [
    "list1[2]"
   ]
  },
  {
   "cell_type": "code",
   "execution_count": 76,
   "id": "2e0cf29a",
   "metadata": {},
   "outputs": [
    {
     "data": {
      "text/plain": [
       "[3, 5, 'ammar', 'codanics', 478, 53.2, False]"
      ]
     },
     "execution_count": 76,
     "metadata": {},
     "output_type": "execute_result"
    }
   ],
   "source": [
    "list2= [3,5,\"ammar\", \"codanics\", 478, 53.2, False]\n",
    "list2"
   ]
  },
  {
   "cell_type": "code",
   "execution_count": 77,
   "id": "cd4f7369",
   "metadata": {},
   "outputs": [
    {
     "data": {
      "text/plain": [
       "[1, 'Python', False, 3, 5, 'ammar', 'codanics', 478, 53.2, False]"
      ]
     },
     "execution_count": 77,
     "metadata": {},
     "output_type": "execute_result"
    }
   ],
   "source": [
    "list1 + list2"
   ]
  },
  {
   "cell_type": "code",
   "execution_count": 78,
   "id": "5fc1cdaf",
   "metadata": {},
   "outputs": [
    {
     "data": {
      "text/plain": [
       "[1, 'Python', False, 1, 'Python', False]"
      ]
     },
     "execution_count": 78,
     "metadata": {},
     "output_type": "execute_result"
    }
   ],
   "source": [
    "list1*2"
   ]
  },
  {
   "cell_type": "code",
   "execution_count": 79,
   "id": "92960b7f",
   "metadata": {},
   "outputs": [
    {
     "data": {
      "text/plain": [
       "[False, 'Python', 1]"
      ]
     },
     "execution_count": 79,
     "metadata": {},
     "output_type": "execute_result"
    }
   ],
   "source": [
    "list1.reverse()\n",
    "list1"
   ]
  },
  {
   "cell_type": "code",
   "execution_count": 80,
   "id": "d712823f",
   "metadata": {},
   "outputs": [
    {
     "data": {
      "text/plain": [
       "(1, 'Python', True, 2.3)"
      ]
     },
     "execution_count": 80,
     "metadata": {},
     "output_type": "execute_result"
    }
   ],
   "source": [
    "tup1"
   ]
  },
  {
   "cell_type": "code",
   "execution_count": 81,
   "id": "fec5d2a7",
   "metadata": {},
   "outputs": [
    {
     "data": {
      "text/plain": [
       "[False, 'Python', 1, 'codanics youtube channel']"
      ]
     },
     "execution_count": 81,
     "metadata": {},
     "output_type": "execute_result"
    }
   ],
   "source": [
    "list1.append(\"codanics youtube channel\")\n",
    "list1"
   ]
  },
  {
   "cell_type": "code",
   "execution_count": 82,
   "id": "3d4bb86a",
   "metadata": {},
   "outputs": [
    {
     "data": {
      "text/plain": [
       "1"
      ]
     },
     "execution_count": 82,
     "metadata": {},
     "output_type": "execute_result"
    }
   ],
   "source": [
    "list1.count(\"Python\")"
   ]
  },
  {
   "cell_type": "code",
   "execution_count": 83,
   "id": "879210ba",
   "metadata": {},
   "outputs": [
    {
     "name": "stdout",
     "output_type": "stream",
     "text": [
      "1\n"
     ]
    }
   ],
   "source": [
    "fruits = [\"apple\", \"banana\", \"cherry\"]\n",
    "\n",
    "x = fruits.count(\"cherry\")\n",
    "\n",
    "print(x)"
   ]
  },
  {
   "cell_type": "code",
   "execution_count": 84,
   "id": "50210540",
   "metadata": {},
   "outputs": [
    {
     "data": {
      "text/plain": [
       "0"
      ]
     },
     "execution_count": 84,
     "metadata": {},
     "output_type": "execute_result"
    }
   ],
   "source": [
    "list1.count(\"ammar\")"
   ]
  },
  {
   "cell_type": "code",
   "execution_count": 85,
   "id": "ae62d971",
   "metadata": {},
   "outputs": [],
   "source": [
    "list3 = [20, 30, 40, 50, 26, 56, 38, 45]"
   ]
  },
  {
   "cell_type": "code",
   "execution_count": 86,
   "id": "09348ebd",
   "metadata": {},
   "outputs": [
    {
     "data": {
      "text/plain": [
       "8"
      ]
     },
     "execution_count": 86,
     "metadata": {},
     "output_type": "execute_result"
    }
   ],
   "source": [
    "len(list3)"
   ]
  },
  {
   "cell_type": "code",
   "execution_count": 87,
   "id": "8eb18631",
   "metadata": {},
   "outputs": [
    {
     "data": {
      "text/plain": [
       "[20, 26, 30, 38, 40, 45, 50, 56]"
      ]
     },
     "execution_count": 87,
     "metadata": {},
     "output_type": "execute_result"
    }
   ],
   "source": [
    "list3.sort()\n",
    "list3"
   ]
  },
  {
   "cell_type": "code",
   "execution_count": 88,
   "id": "b827e748",
   "metadata": {},
   "outputs": [
    {
     "data": {
      "text/plain": [
       "[False,\n",
       " 'Python',\n",
       " 1,\n",
       " 'codanics youtube channel',\n",
       " 3,\n",
       " 5,\n",
       " 'ammar',\n",
       " 'codanics',\n",
       " 478,\n",
       " 53.2,\n",
       " False,\n",
       " 20,\n",
       " 26,\n",
       " 30,\n",
       " 38,\n",
       " 40,\n",
       " 45,\n",
       " 50,\n",
       " 56]"
      ]
     },
     "execution_count": 88,
     "metadata": {},
     "output_type": "execute_result"
    }
   ],
   "source": [
    "list4 = list1 + list2 + list3\n",
    "\n",
    "list4"
   ]
  },
  {
   "cell_type": "markdown",
   "id": "67fcd45c",
   "metadata": {},
   "source": [
    "### Dictonaries\n",
    "###### A liitle bit difficult\n",
    "###### Data Type\n",
    "###### unorder collection of the elemet\n",
    "###### keys and values"
   ]
  },
  {
   "cell_type": "code",
   "execution_count": 89,
   "id": "2b382329",
   "metadata": {},
   "outputs": [
    {
     "data": {
      "text/plain": [
       "dict"
      ]
     },
     "execution_count": 89,
     "metadata": {},
     "output_type": "execute_result"
    }
   ],
   "source": [
    "# food and their prices\n",
    "food1 = {\"samso\": 25, \"pakora\": 50, \"riata\":15,\"chiken role\": 40}\n",
    "type(food1)"
   ]
  },
  {
   "cell_type": "code",
   "execution_count": 90,
   "id": "a2eeda24",
   "metadata": {},
   "outputs": [
    {
     "data": {
      "text/plain": [
       "dict_keys(['samso', 'pakora', 'riata', 'chiken role'])"
      ]
     },
     "execution_count": 90,
     "metadata": {},
     "output_type": "execute_result"
    }
   ],
   "source": [
    "# extract data\n",
    "keys1=food1.keys()\n",
    "keys1"
   ]
  },
  {
   "cell_type": "code",
   "execution_count": 91,
   "id": "dd9c886d",
   "metadata": {},
   "outputs": [
    {
     "data": {
      "text/plain": [
       "dict_values([25, 50, 15, 40])"
      ]
     },
     "execution_count": 91,
     "metadata": {},
     "output_type": "execute_result"
    }
   ],
   "source": [
    "values1= food1.values()\n",
    "values1"
   ]
  },
  {
   "cell_type": "code",
   "execution_count": 92,
   "id": "79643584",
   "metadata": {},
   "outputs": [
    {
     "data": {
      "text/plain": [
       "dict_keys(['samso', 'pakora', 'riata', 'chiken role'])"
      ]
     },
     "execution_count": 92,
     "metadata": {},
     "output_type": "execute_result"
    }
   ],
   "source": [
    "# extract data\n",
    "food1.keys()"
   ]
  },
  {
   "cell_type": "code",
   "execution_count": 93,
   "id": "b2c89d4e",
   "metadata": {},
   "outputs": [
    {
     "data": {
      "text/plain": [
       "{'samso': 25, 'pakora': 50, 'riata': 15, 'chiken role': 40, 'tikki': 10}"
      ]
     },
     "execution_count": 93,
     "metadata": {},
     "output_type": "execute_result"
    }
   ],
   "source": [
    "food1.update({\"tikki\":10})\n",
    "food1"
   ]
  },
  {
   "cell_type": "code",
   "execution_count": 94,
   "id": "545efb99",
   "metadata": {},
   "outputs": [
    {
     "data": {
      "text/plain": [
       "{'samso': 25, 'pakora': 50, 'riata': 15, 'chiken role': 40, 'tikki': 15}"
      ]
     },
     "execution_count": 94,
     "metadata": {},
     "output_type": "execute_result"
    }
   ],
   "source": [
    "food1.update({\"tikki\":15})\n",
    "food1"
   ]
  },
  {
   "cell_type": "code",
   "execution_count": 95,
   "id": "c59e018e",
   "metadata": {},
   "outputs": [
    {
     "data": {
      "text/plain": [
       "{'dates': 300, 'choclates': 250, 'sawiyan': 200}"
      ]
     },
     "execution_count": 95,
     "metadata": {},
     "output_type": "execute_result"
    }
   ],
   "source": [
    "food2 ={\"dates\": 300, \"choclates\":250, \"sawiyan\": 200 }\n",
    "food2"
   ]
  },
  {
   "cell_type": "code",
   "execution_count": 96,
   "id": "da308572",
   "metadata": {},
   "outputs": [
    {
     "data": {
      "text/plain": [
       "{'samso': 25,\n",
       " 'pakora': 50,\n",
       " 'riata': 15,\n",
       " 'chiken role': 40,\n",
       " 'tikki': 15,\n",
       " 'dates': 300,\n",
       " 'choclates': 250,\n",
       " 'sawiyan': 200}"
      ]
     },
     "execution_count": 96,
     "metadata": {},
     "output_type": "execute_result"
    }
   ],
   "source": [
    "food1.update(food2)\n",
    "food1"
   ]
  },
  {
   "cell_type": "markdown",
   "id": "bcbed61a",
   "metadata": {},
   "source": [
    "## Sets\n",
    "#### Used with currely braces{}\n",
    "#### no duplicates allowed"
   ]
  },
  {
   "cell_type": "code",
   "execution_count": 97,
   "id": "e8805a51",
   "metadata": {},
   "outputs": [
    {
     "data": {
      "text/plain": [
       "{1, 2, 3, 'ammar', 'codanics', 'faislabad'}"
      ]
     },
     "execution_count": 97,
     "metadata": {},
     "output_type": "execute_result"
    }
   ],
   "source": [
    "s1={1,2,3, \"ammar\", \"codanics\", \"faislabad\"}\n",
    "s1"
   ]
  },
  {
   "cell_type": "code",
   "execution_count": 98,
   "id": "c4fa41ca",
   "metadata": {},
   "outputs": [
    {
     "data": {
      "text/plain": [
       "{1, 2, 3, 'ammar', 'codanics', 'faislabad', 'hamza'}"
      ]
     },
     "execution_count": 98,
     "metadata": {},
     "output_type": "execute_result"
    }
   ],
   "source": [
    "s1.add(\"hamza\")\n",
    "s1"
   ]
  },
  {
   "cell_type": "code",
   "execution_count": 99,
   "id": "3e60eca4",
   "metadata": {},
   "outputs": [
    {
     "ename": "SyntaxError",
     "evalue": "invalid syntax (Temp/ipykernel_9600/1298058013.py, line 1)",
     "output_type": "error",
     "traceback": [
      "\u001b[1;36m  File \u001b[1;32m\"C:\\Users\\ThinkPad\\AppData\\Local\\Temp/ipykernel_9600/1298058013.py\"\u001b[1;36m, line \u001b[1;32m1\u001b[0m\n\u001b[1;33m    s1.\u001b[0m\n\u001b[1;37m       ^\u001b[0m\n\u001b[1;31mSyntaxError\u001b[0m\u001b[1;31m:\u001b[0m invalid syntax\n"
     ]
    }
   ],
   "source": [
    "s1."
   ]
  },
  {
   "cell_type": "code",
   "execution_count": null,
   "id": "111786e7",
   "metadata": {},
   "outputs": [],
   "source": []
  },
  {
   "cell_type": "code",
   "execution_count": null,
   "id": "6864bd4e",
   "metadata": {},
   "outputs": [],
   "source": []
  },
  {
   "cell_type": "code",
   "execution_count": null,
   "id": "095f53be",
   "metadata": {},
   "outputs": [],
   "source": []
  },
  {
   "cell_type": "code",
   "execution_count": null,
   "id": "15af83fc",
   "metadata": {},
   "outputs": [],
   "source": []
  },
  {
   "cell_type": "code",
   "execution_count": null,
   "id": "2db1be1a",
   "metadata": {},
   "outputs": [],
   "source": []
  },
  {
   "cell_type": "code",
   "execution_count": null,
   "id": "fd9ef479",
   "metadata": {},
   "outputs": [],
   "source": []
  },
  {
   "cell_type": "code",
   "execution_count": null,
   "id": "85a21312",
   "metadata": {},
   "outputs": [],
   "source": []
  },
  {
   "cell_type": "code",
   "execution_count": null,
   "id": "9de85b45",
   "metadata": {},
   "outputs": [],
   "source": []
  }
 ],
 "metadata": {
  "kernelspec": {
   "display_name": "Python 3 (ipykernel)",
   "language": "python",
   "name": "python3"
  },
  "language_info": {
   "codemirror_mode": {
    "name": "ipython",
    "version": 3
   },
   "file_extension": ".py",
   "mimetype": "text/x-python",
   "name": "python",
   "nbconvert_exporter": "python",
   "pygments_lexer": "ipython3",
   "version": "3.9.7"
  }
 },
 "nbformat": 4,
 "nbformat_minor": 5
}
