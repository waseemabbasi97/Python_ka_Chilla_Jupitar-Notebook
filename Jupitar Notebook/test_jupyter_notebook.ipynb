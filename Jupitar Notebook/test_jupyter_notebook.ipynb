{
 "cells": [
  {
   "cell_type": "markdown",
   "id": "827a38bb",
   "metadata": {},
   "source": [
    "# Python ka Chilla with Baba Ammar\n",
    "\n",
    "## How to use Jupytar Notebook\n",
    "\n",
    "### Our Basic of Python\n"
   ]
  },
  {
   "cell_type": "markdown",
   "id": "08a4561d",
   "metadata": {},
   "source": [
    "### 01_My first Program"
   ]
  },
  {
   "cell_type": "code",
   "execution_count": null,
   "id": "09c8bfa3",
   "metadata": {},
   "outputs": [
    {
     "name": "stdout",
     "output_type": "stream",
     "text": [
      "5\n",
      "Hellow World\n",
      "we are learning with ammar\n"
     ]
    }
   ],
   "source": [
    "print(2+3)\n",
    "\n",
    "print(\"Hellow World\")\n",
    "\n",
    "print('we are learning with ammar')"
   ]
  },
  {
   "cell_type": "markdown",
   "id": "1bf92aec",
   "metadata": {},
   "source": [
    "### 02_Operators"
   ]
  },
  {
   "cell_type": "code",
   "execution_count": null,
   "id": "116f71a1",
   "metadata": {},
   "outputs": [
    {
     "name": "stdout",
     "output_type": "stream",
     "text": [
      "6\n",
      "2\n",
      "11.313708498984761\n"
     ]
    }
   ],
   "source": [
    "print(3+3)\n",
    "# print(3-3)\n",
    "# print(3*3)\n",
    "# print(3-1)\n",
    "# print(3%3)\n",
    "# print(6/3)\n",
    "print(6//3)\n",
    "print(2**3.5)"
   ]
  },
  {
   "cell_type": "markdown",
   "id": "2d62f437",
   "metadata": {},
   "source": [
    "*pedmas*"
   ]
  },
  {
   "cell_type": "markdown",
   "id": "9d8896da",
   "metadata": {},
   "source": [
    "### 03_String"
   ]
  },
  {
   "cell_type": "code",
   "execution_count": null,
   "id": "86e20760",
   "metadata": {},
   "outputs": [
    {
     "name": "stdout",
     "output_type": "stream",
     "text": [
      "5\n",
      "Hellow World\n",
      "we are learning with ammar\n",
      "Muslim Youth University\n",
      " Hi how are you    are'nt     ?\n"
     ]
    }
   ],
   "source": [
    "print(2+3)\n",
    "print(\"Hellow World\")\n",
    "print('''we are learning with ammar''')\n",
    "print('Muslim Youth University')\n",
    "print(\" Hi how are you    are'nt     ?\")\n"
   ]
  },
  {
   "cell_type": "markdown",
   "id": "53c16362",
   "metadata": {},
   "source": [
    "*string_clear*"
   ]
  },
  {
   "cell_type": "markdown",
   "id": "f710e816",
   "metadata": {},
   "source": [
    "### 04_comments"
   ]
  },
  {
   "cell_type": "code",
   "execution_count": null,
   "id": "910619a8",
   "metadata": {},
   "outputs": [
    {
     "name": "stdout",
     "output_type": "stream",
     "text": [
      "how are you?\n",
      "8\n"
     ]
    }
   ],
   "source": [
    "print('how are you?')\n",
    "# print('we are learning with ammar')\n",
    "print(2+6)\n",
    "# cttrl /"
   ]
  },
  {
   "cell_type": "markdown",
   "id": "b464082f",
   "metadata": {},
   "source": [
    "### 05_variables"
   ]
  },
  {
   "cell_type": "code",
   "execution_count": null,
   "id": "a13ac4e8",
   "metadata": {},
   "outputs": [
    {
     "name": "stdout",
     "output_type": "stream",
     "text": [
      "5\n",
      "we are learning with ammar\n",
      "20\n",
      "<class 'int'>\n",
      "<class 'str'>\n",
      "mangos, oranges\n",
      "<class 'str'>\n"
     ]
    }
   ],
   "source": [
    "x = 5\n",
    "print(x)\n",
    "y= \"we are learning with ammar\"\n",
    "print(y)\n",
    "x= x+15\n",
    "print(x)\n",
    "# types of variable\n",
    "print(type(x))\n",
    "print(type(y))\n",
    "\n",
    "\n",
    "# Rules to assign  the variables\n",
    "# 1. the variable should be number, letter or underscores\n",
    "# 2. Donot starts with numeber \"2y\".\n",
    "# 3. spaces are not allowed\n",
    "# 4. donot use keywords (break, test, medan, google names of python kewords)\n",
    "# 5. Short and descripive variable names\n",
    "# 6. Case sensative (Suggest always use lowercase letters)\n",
    "\n",
    "\n",
    "\n",
    "fruit_basket =\"mangos, oranges\"\n",
    "print(fruit_basket)\n",
    "print(type(fruit_basket))\n"
   ]
  },
  {
   "cell_type": "markdown",
   "id": "e43d113d",
   "metadata": {},
   "source": [
    "### 06_input_variables"
   ]
  },
  {
   "cell_type": "code",
   "execution_count": null,
   "id": "2bdb5021",
   "metadata": {},
   "outputs": [],
   "source": [
    "# fruit_basket =\"Mangos\"\n",
    "# print(fruit_basket)\n",
    "\n",
    "# # input function\n",
    "\n",
    "# fruit_basket = input(\"Which is your favourite fruit? \")\n",
    "# print(fruit_basket)\n",
    "\n",
    "# # input function of second stage\n",
    "\n",
    "# # name = input(\"what is your name ?\")\n",
    "# # greetings = \"Hello!\"\n",
    "# # print(greetings, name)\n",
    "\n",
    "# # input function of third stage\n",
    "# name = input(\"What is your name? \")\n",
    "# print(\"Hello!\", name )\n",
    "\n",
    "# input function of 4th stage\n",
    "\n",
    "name = input(\"What is your name? \")\n",
    "age = input (\"What is your age? \")\n",
    "greetings = \"Hello!\"\n",
    "\n",
    "print(greetings, name, age, \", You are still young\")"
   ]
  },
  {
   "cell_type": "markdown",
   "id": "a80c7c39",
   "metadata": {},
   "source": [
    "### 07_conditional_logic"
   ]
  },
  {
   "cell_type": "code",
   "execution_count": null,
   "id": "b4e9fccc",
   "metadata": {},
   "outputs": [],
   "source": [
    "# logical opertao are either true or falso or yes or no\n",
    "#  equal to ==\n",
    "# less than <\n",
    "#  great than >\n",
    "# less than and equall to <=\n",
    "# greater than and equall to >=\n",
    "\n",
    "# is 4 equal to 4\n",
    "\n",
    "# print(4==4)\n",
    "# print(4>=5)\n",
    "# print(4<5)\n",
    "# print(4<5>3)\n",
    "\n",
    "\n",
    "# application of logical operators\n",
    "\n",
    "\n",
    "\n",
    "# input operator and logicals\n",
    "\n",
    "\n",
    "hammad_age= input(\"How old is hammad: \")\n",
    "hammad_age= int(hammad_age)\n",
    "print(type(hammad_age))\n",
    "age_at_school=5\n",
    "\n",
    "print(hammad_age==age_at_school)\n",
    "\n",
    "\n",
    "\n",
    "#covert input"
   ]
  },
  {
   "cell_type": "markdown",
   "id": "463992b0",
   "metadata": {},
   "source": [
    "### 08_type_conversion"
   ]
  },
  {
   "cell_type": "code",
   "execution_count": null,
   "id": "2efe0016",
   "metadata": {},
   "outputs": [],
   "source": [
    "x= 10\n",
    "y = 10.2\n",
    "z=\"hello\"\n",
    "\n",
    "print(type(z))\n",
    "\n",
    "# x = x*y\n",
    "\n",
    "# print(x)\n",
    "# print(type(x))\n",
    "\n",
    "# explicit type conversion\n",
    "\n",
    "# age =input(\"what is your age? \")\n",
    "# age= int(age)\n",
    "# print(type(age))\n",
    "\n",
    "\n",
    "name =input(\"what is your name? \")\n",
    "print(name, type(str(name)))\n",
    "\n",
    "# type_conversion"
   ]
  },
  {
   "cell_type": "markdown",
   "id": "ecf9eec5",
   "metadata": {},
   "source": [
    "### 09_if_else_elif"
   ]
  },
  {
   "cell_type": "code",
   "execution_count": null,
   "id": "437218d4",
   "metadata": {},
   "outputs": [],
   "source": [
    "required_age_at_school= 5\n",
    "hammad_age= int(input(\"What is hammad age: \"))\n",
    "\n",
    "if hammad_age == required_age_at_school:\n",
    "    print(\"Congradulations: hammad can join the school\")\n",
    "  \n",
    "elif hammad_age >= required_age_at_school:\n",
    "    print(\"Should join college\")\n",
    "      \n",
    "else:\n",
    "    print(\"hammad cannot go to school\")\n"
   ]
  },
  {
   "cell_type": "markdown",
   "id": "e8b8612e",
   "metadata": {},
   "source": [
    "### 10_functions"
   ]
  },
  {
   "cell_type": "code",
   "execution_count": null,
   "id": "3a5ec274",
   "metadata": {},
   "outputs": [],
   "source": [
    "\n",
    "\n",
    "# 1 functions difintion\n",
    "\n",
    "# def print_codanics():\n",
    "#     print(\"We are learning with ammar\")\n",
    "#     print(\"We are learning with ammar\")\n",
    "#     print(\"We are learning with ammar\") \n",
    "    \n",
    "# print_codanics()\n",
    "    \n",
    "\n",
    "# 2 functions difintion\n",
    "\n",
    "# def print_codanics():\n",
    "#     text= \"We are learning with ammar\"\n",
    "#     print(text)\n",
    "#     print(text)\n",
    "#     print(text) \n",
    "# print_codanics()\n",
    "\n",
    "\n",
    "# 3 functions difintion\n",
    "\n",
    "# def print_codanics(text):\n",
    "#     print(text)\n",
    "#     print(text)\n",
    "#     print(text) \n",
    "# print_codanics(\"We are learning with ammar\")\n",
    "\n",
    "\n",
    "# 4 definintion with if else elif\n",
    "age= input(\"What is hammad age: \")\n",
    "age= int(age)\n",
    "\n",
    "# def school_calculator(text,age):\n",
    "#     if age == 5:\n",
    "#         print(\"hammad can join the school\")\n",
    "#     elif age> 5:\n",
    "#         print(\"hammad should go to higher school\")\n",
    "#     else:\n",
    "#         print(\"hammad is still a baby\")\n",
    "# school_calculator(\"Hammad\",age)\n",
    "\n",
    "#  definig a function of future\n",
    "\n",
    "def future_age(age):\n",
    "    new_age = age+20\n",
    "    return new_age\n",
    "\n",
    "future_predicted_age= future_age(age)\n",
    "print(future_predicted_age)\n",
    "    \n",
    "# i understant functions"
   ]
  },
  {
   "cell_type": "markdown",
   "id": "52490513",
   "metadata": {},
   "source": [
    "### 11_loops"
   ]
  },
  {
   "cell_type": "code",
   "execution_count": null,
   "id": "621491e6",
   "metadata": {},
   "outputs": [],
   "source": [
    "# very importnat chapter\n",
    "\n",
    "# while loop\n",
    "# x = 0\n",
    "# while(x<5):\n",
    "#      print(x)\n",
    "#      x=x+1\n",
    "     \n",
    "     \n",
    "# for loop\n",
    "# x = 0\n",
    "# for x in range (4,11):\n",
    "#      print(x)\n",
    "#      x=x+1\n",
    "     \n",
    "     \n",
    "# arrays\n",
    "\n",
    "days= [\"mon\",\"tue\",\"wed\",\"thu\",\"fri\",\"sat\",\"sun\"]\n",
    "\n",
    "for i in days:\n",
    "    # if (i==\"thu\"): break #loop stops\n",
    "    # print(i)\n",
    "    # if (i==\"fri\"): continue\n",
    "    if (i==\"thu\"): break #loop stops\n",
    "    print(i)\n",
    "    # print(i)"
   ]
  },
  {
   "cell_type": "markdown",
   "id": "9c8dd35d",
   "metadata": {},
   "source": [
    "### 12_import_libraries"
   ]
  },
  {
   "cell_type": "code",
   "execution_count": null,
   "id": "8c5f4591",
   "metadata": {},
   "outputs": [],
   "source": [
    "# if you want to print the value of pi\n",
    "\n",
    "import math\n",
    "print(\"The value of pi is: \", math.pi)\n",
    "\n",
    "import statistics\n",
    "x = [150,250,350]\n",
    "print(statistics.mean(x))\n",
    "print(statistics.stdev(x))\n",
    "\n",
    "\n",
    "\n",
    "# numpy, pandas   (important libraries)\n",
    "\n"
   ]
  },
  {
   "cell_type": "markdown",
   "id": "17eecee6",
   "metadata": {},
   "source": [
    "### 13_troublshooting"
   ]
  },
  {
   "cell_type": "code",
   "execution_count": null,
   "id": "f5ccc9ac",
   "metadata": {},
   "outputs": [],
   "source": [
    "# how to trouble shoot errors\n",
    "\n",
    "# print(\"we are learning phython with ammar\")\n",
    "\n",
    "# print(25/0)\n",
    "\n",
    "name = \"ammar\"\n",
    "print(\"Hello\", name)\n",
    "\n",
    "\n",
    "# troubleshooting is easy\n"
   ]
  }
 ],
 "metadata": {
  "kernelspec": {
   "display_name": "Python 3 (ipykernel)",
   "language": "python",
   "name": "python3"
  },
  "language_info": {
   "codemirror_mode": {
    "name": "ipython",
    "version": 3
   },
   "file_extension": ".py",
   "mimetype": "text/x-python",
   "name": "python",
   "nbconvert_exporter": "python",
   "pygments_lexer": "ipython3",
   "version": "3.10.1"
  }
 },
 "nbformat": 4,
 "nbformat_minor": 5
}
